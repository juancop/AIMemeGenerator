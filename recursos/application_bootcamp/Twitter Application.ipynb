{
 "cells": [
  {
   "cell_type": "markdown",
   "metadata": {},
   "source": [
    "# Real-Time Twitter Sentiment Analysis"
   ]
  },
  {
   "cell_type": "markdown",
   "metadata": {},
   "source": [
    "## Before we begin\n",
    "\n",
    "In this case, we will put together an application that takes in Twitter tweets and analyzes the sentiment of those tweets in real-time. The communication among all the different components will look something like this:\n",
    "\n",
    "![](Architecture.png)\n",
    "\n",
    "**NOTE:** This material was built following [this tutorial made by Chulong Li](https://towardsdatascience.com/real-time-twitter-sentiment-analysis-for-brand-improvement-and-topic-tracking-chapter-1-3-e02f7652d8ff), with some modifications.\n",
    "\n",
    "In order to go through this, you will need to:\n",
    "\n",
    "- Apply for a Twitter developer account [here](https://developer.twitter.com/en/apply-for-access)\n",
    "- Create an app to generate two API keys and two access tokens [here](https://developer.twitter.com/en/apps)\n",
    "- Execute `pip install -r requirements.txt`"
   ]
  },
  {
   "cell_type": "markdown",
   "metadata": {},
   "source": [
    "## Application setup\n",
    "\n",
    "Before we can build this application, we need to do some setup:\n",
    "\n",
    "1. Create a file called `credentials.py`:\n",
    "\n",
    "```python\n",
    "API_KEY = \"XXXXXXXXXXXXXX\"\n",
    "API_SECRET_KEY = \"XXXXXXXXXXXXXXXXXXXXXXXXXXXXXXXXXXXXXXXXXXXXXXXXXX\"\n",
    "\n",
    "ACCESS_TOKEN = \"XXXXXXXXXXXXXXXXXXXXXXXXXXXXXXXXXXXXXXXXXXXXXXXX\"\n",
    "ACCESS_TOKEN_SECRET = \"XXXXXXXXXXXXXXXXXXXXXXXXXXXXXXXXXXXXXXXXXXX\"\n",
    "```\n",
    "\n",
    "2. Create a database in RDS Postgres named `twitterdb`.\n",
    "3. Create a file called `settings.py`:\n",
    "\n",
    "```python\n",
    "TRACK_WORDS = ['covid']\n",
    "TABLE_NAME = \"twitter\"\n",
    "TABLE_ATTRIBUTES = \"id_str VARCHAR(255), created_at timestamp, text VARCHAR(255), \\\n",
    "            polarity INT, subjectivity INT, user_created_at VARCHAR(255), user_location VARCHAR(255), \\\n",
    "            user_description VARCHAR(255), user_followers_count INT, longitude double precision, latitude double precision, \\\n",
    "            retweet_count INT, favorite_count INT\"\n",
    "```"
   ]
  },
  {
   "cell_type": "markdown",
   "metadata": {},
   "source": [
    "## Application\n",
    "\n",
    "The application itself consists of the following files:\n",
    "\n",
    "- [Tweepy](http://docs.tweepy.org/en/v3.4.0/streaming_how_to.html#streaming-with-tweepyhttp://docs.tweepy.org/en/v3.4.0/streaming_how_to.html#streaming-with-tweepy) is a Python library to listen to streaming Twitter data\n",
    "- `credentials.py`: Tokens to connect to Twitter's API\n",
    "- `settings.py`: Includes information about topics to track, as well as the name and columns of database tables\n",
    "- `TwStreamListener.py`: Stream class to extract tweets\n",
    "- `main.py`: Main program to execute ETL to extract tweets and save to the database\n",
    "- `app.py`: Dash app to see the results of the analysis\n",
    "\n",
    "We will now walk through how to tie everything together live."
   ]
  },
  {
   "cell_type": "code",
   "execution_count": null,
   "metadata": {},
   "outputs": [],
   "source": []
  }
 ],
 "metadata": {
  "kernelspec": {
   "display_name": "Python 3",
   "language": "python",
   "name": "python3"
  },
  "language_info": {
   "codemirror_mode": {
    "name": "ipython",
    "version": 3
   },
   "file_extension": ".py",
   "mimetype": "text/x-python",
   "name": "python",
   "nbconvert_exporter": "python",
   "pygments_lexer": "ipython3",
   "version": "3.8.5"
  }
 },
 "nbformat": 4,
 "nbformat_minor": 4
}
