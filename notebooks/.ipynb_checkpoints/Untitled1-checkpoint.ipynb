{
 "cells": [
  {
   "cell_type": "code",
   "execution_count": 1,
   "id": "geographic-tribune",
   "metadata": {},
   "outputs": [],
   "source": [
    "import pandas as pd\n",
    "import numpy as np"
   ]
  },
  {
   "cell_type": "code",
   "execution_count": 6,
   "id": "mathematical-workstation",
   "metadata": {},
   "outputs": [],
   "source": [
    "import json"
   ]
  },
  {
   "cell_type": "code",
   "execution_count": 11,
   "id": "national-contrast",
   "metadata": {},
   "outputs": [],
   "source": [
    "with open('template_id.txt') as f:\n",
    "    h = json.load(f)"
   ]
  },
  {
   "cell_type": "code",
   "execution_count": 3,
   "id": "configured-tomato",
   "metadata": {},
   "outputs": [],
   "source": [
    "df = pd.read_csv('../data/bases_no_tilde/scrapymemes10m_no_tilde.csv')"
   ]
  },
  {
   "cell_type": "code",
   "execution_count": 5,
   "id": "level-jenny",
   "metadata": {},
   "outputs": [
    {
     "data": {
      "text/plain": [
       "array([' Disaster Girl', ' Keanu Reeves', ' Overly Attached Girlfriend',\n",
       "       ' Yao Wonka', ' I Hate', ' Desk Flip Rage Guy', ' Obama',\n",
       "       ' Annoying Gamer Kid', ' House', ' Steve Jobs', ' Troll',\n",
       "       ' Joseph Ducreux', ' Bebe furioso', ' Sergio Ramos',\n",
       "       ' Filosoraptor', ' Sudden Realization Ralph', ' Futurama Fry',\n",
       "       ' Chill Out Lemur', ' Koala', ' Problems', ' fat chinese kid',\n",
       "       ' Ay Si', ' Por favor', ' Grumpy Cat', ' Yoda', ' Advice Dog',\n",
       "       ' Ancient Aliens', ' Jackie Chan', ' Chico Malo', ' Jealous Girl',\n",
       "       ' Chemistry Cat', ' Boromir', ' Correction Guy', ' Insanity Wolf',\n",
       "       \" I'm sexy and I know it\", ' Matias Prats', ' Feel Like A Sir',\n",
       "       ' Yao Ming', ' Bad Luck Brian', ' Yao Ming 2', ' Pedobear',\n",
       "       ' Trologirl', ' No me digas', ' Disapproving Batman', ' Yo Dawg',\n",
       "       ' Mr Bean', ' Bebe Exitoso', ' Prepare Yourself', ' Forever Alone',\n",
       "       ' Y U No', ' Business Cat', ' Sad Trooper',\n",
       "       ' First World Problems', ' Bear Grylls', ' Willy Wonka',\n",
       "       ' Drunk Baby', ' Cereal Guy', ' crying peter parker', ' Greg',\n",
       "       ' Sheldon Cooper', ' Anxiety Cat', ' Stoner Stanley', ' Arnold',\n",
       "       ' Chuck Norris', ' Pulp Fiction', ' Gangnam Style', ' Retard Girl',\n",
       "       ' Challenge Accepted', ' Perro Racista', ' What If I Told You',\n",
       "       ' Homer', ' Whyyy', ' Annoying Facebook Girl', ' Rage FU',\n",
       "       ' Sparta', ' Ash Pedreiro', ' Fuck Yea', ' Me Gusta', ' Okay Guy',\n",
       "       ' Francesco Schettino', ' Friki', ' Tyler Durden',\n",
       "       ' Scumbag Steve'], dtype=object)"
      ]
     },
     "execution_count": 5,
     "metadata": {},
     "output_type": "execute_result"
    }
   ],
   "source": [
    "df.plantilla.unique()"
   ]
  },
  {
   "cell_type": "code",
   "execution_count": null,
   "id": "enormous-drinking",
   "metadata": {},
   "outputs": [],
   "source": [
    "class splittr:\n",
    "    \"\"\"\n",
    "    Construcción de Base de Datos específica y separada\n",
    "    \"\"\"\n",
    "    \n",
    "    template_list = ['Ancient Aliens', 'Annoying Gamer Kid', 'Ay Si',\n",
    "                     'Bad Luck Brian', 'Disaster Girl', 'Filosoraptor',\n",
    "                     'Futurama Fry', 'Matias Prats', 'No me digas',\n",
    "                     'Prepare Yourself', 'Problems', 'Willy Wonka', 'Yao Wonka']\n",
    "    \n",
    "    def __init__(self, folder, json_path):\n",
    "        self.folder = folder\n",
    "        self.template_list = template_list\n",
    "        self.codification = self.load_json(json_path)\n",
    "        self.text_field = 'texto_no_tilde'\n",
    "        \n",
    "        \n",
    "    def load_json(self, json_path):\n",
    "        \"\"\"\n",
    "        Permite la carga de un JSON que contenga los IDs de las plantillas.\n",
    "        \"\"\"\n",
    "        with open('template_id.txt') as f:\n",
    "            json_file = json.load(f)\n",
    "        return json_file\n",
    "    \n",
    "    def single_caracter_separator(self, text, sep, append_top = False):\n",
    "        \"\"\"\n",
    "        Implementa una función que separa en base a un sólo caracter\n",
    "        \n",
    "        Params\n",
    "        --------\n",
    "            text (str): \n",
    "                Una cadena de texto a transformar\n",
    "            \n",
    "            sep (str):\n",
    "                Una cadena de texto que separa dos frases\n",
    "            \n",
    "            append_top (bool):\n",
    "                Default = False; \n",
    "                Indica si el separador se debe incluir en la primera frase.\n",
    "                \n",
    "        Returns\n",
    "        --------\n",
    "            text_1 (str):\n",
    "                Cadena de texto de frase superior\n",
    "            \n",
    "            text_2 (str):\n",
    "                Cadena de texto de frase inferior\n",
    "        \"\"\"\n",
    "        \n",
    "        text_1, text_2 = text.split(sep)\n",
    "        if append_top:\n",
    "            text_1 += sep\n",
    "        else:\n",
    "            text_2 += sep\n",
    "            \n",
    "        return text_1, text_2\n",
    "            \n",
    "        \n",
    "    \n",
    "    def FrySeparator(self, row):\n",
    "        \"\"\"\n",
    "        Implementa la regla de separación de Fry. Corresponde al caracter ' o '\n",
    "        \"\"\"\n",
    "        \n",
    "        separator = ' o '\n",
    "        text = row[self.text_field]\n",
    "        text_1, text_2 = text.split(separator)\n",
    "        \n",
    "         x[x['id '] == 2843221].texto.str.split('\\.\\.',expand=True, n = 1)"
   ]
  },
  {
   "cell_type": "code",
   "execution_count": 20,
   "id": "developmental-centre",
   "metadata": {},
   "outputs": [],
   "source": [
    "m = df.loc[df.plantilla.str.contains('Fry')]"
   ]
  },
  {
   "cell_type": "code",
   "execution_count": 22,
   "id": "sweet-edinburgh",
   "metadata": {},
   "outputs": [],
   "source": [
    "mm = m.iloc[0]"
   ]
  },
  {
   "cell_type": "code",
   "execution_count": 26,
   "id": "therapeutic-contamination",
   "metadata": {},
   "outputs": [
    {
     "data": {
      "text/plain": [
       "['no se si millo cuando dijo que iba a comer se referIa a el',\n",
       " 'a uno de los 4 personajes de gta v']"
      ]
     },
     "execution_count": 26,
     "metadata": {},
     "output_type": "execute_result"
    }
   ],
   "source": [
    "mm['texto_no_tilde'].split(' o ')"
   ]
  },
  {
   "cell_type": "code",
   "execution_count": null,
   "id": "demanding-adelaide",
   "metadata": {},
   "outputs": [],
   "source": []
  }
 ],
 "metadata": {
  "kernelspec": {
   "display_name": "Python 3",
   "language": "python",
   "name": "python3"
  },
  "language_info": {
   "codemirror_mode": {
    "name": "ipython",
    "version": 3
   },
   "file_extension": ".py",
   "mimetype": "text/x-python",
   "name": "python",
   "nbconvert_exporter": "python",
   "pygments_lexer": "ipython3",
   "version": "3.8.5"
  }
 },
 "nbformat": 4,
 "nbformat_minor": 5
}
