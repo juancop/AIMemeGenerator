{
 "cells": [
  {
   "cell_type": "code",
   "execution_count": null,
   "id": "duplicate-beauty",
   "metadata": {},
   "outputs": [],
   "source": [
    "from tweepy import *\n",
    "import pandas as pd\n",
    "import csv\n",
    "import re \n",
    "import string\n",
    "import preprocessor as p\n"
   ]
  },
  {
   "cell_type": "code",
   "execution_count": 4,
   "id": "dying-ethnic",
   "metadata": {},
   "outputs": [],
   "source": [
    "import json"
   ]
  },
  {
   "cell_type": "code",
   "execution_count": 7,
   "id": "ready-castle",
   "metadata": {},
   "outputs": [],
   "source": [
    "with open('credentials.txt') as json_file:\n",
    "    data = json.load(json_file)"
   ]
  },
  {
   "cell_type": "code",
   "execution_count": 8,
   "id": "friendly-doctrine",
   "metadata": {},
   "outputs": [
    {
     "data": {
      "text/plain": [
       "{'API_key': 'uGb3mEOU3dny28UO7YwZaE3pd',\n",
       " 'secret_API_key': '5xbU5oOibC8NQxRGkOqNFLkxGIxPlTOupWXfbDeqDYxuTODztT',\n",
       " 'Access_Token': '841829716692750336-ZY5VUQ8UHxcCQ1mQZ91atAPn7lKMQvq',\n",
       " 'secret_Acess_Token': 'LDzEFuH3rv5rlrARqTSMFAQJ4mfYcHnJpWVpvALRHsO9C',\n",
       " 'barrer_token': 'AAAAAAAAAAAAAAAAAAAAAOW0NwEAAAAAf3FUMsjAwRrG%2BEeGOSww%2B0BaY5s%3DfMXewgJ0P7Dih4AIVCaPrNO0q9uWypJKx8m6iSDNDjVhgwYH2D'}"
      ]
     },
     "execution_count": 8,
     "metadata": {},
     "output_type": "execute_result"
    }
   ],
   "source": [
    "data"
   ]
  },
  {
   "cell_type": "code",
   "execution_count": 5,
   "id": "impaired-float",
   "metadata": {},
   "outputs": [
    {
     "ename": "AttributeError",
     "evalue": "'str' object has no attribute 'read'",
     "output_type": "error",
     "traceback": [
      "\u001b[1;31m---------------------------------------------------------------------------\u001b[0m",
      "\u001b[1;31mAttributeError\u001b[0m                            Traceback (most recent call last)",
      "\u001b[1;32m<ipython-input-5-a17bf15ccccf>\u001b[0m in \u001b[0;36m<module>\u001b[1;34m\u001b[0m\n\u001b[1;32m----> 1\u001b[1;33m \u001b[0mjson\u001b[0m\u001b[1;33m.\u001b[0m\u001b[0mload\u001b[0m\u001b[1;33m(\u001b[0m\u001b[1;34m'credentials.txt'\u001b[0m\u001b[1;33m)\u001b[0m\u001b[1;33m\u001b[0m\u001b[1;33m\u001b[0m\u001b[0m\n\u001b[0m",
      "\u001b[1;32mc:\\users\\juan\\appdata\\local\\programs\\python\\python38-32\\lib\\json\\__init__.py\u001b[0m in \u001b[0;36mload\u001b[1;34m(fp, cls, object_hook, parse_float, parse_int, parse_constant, object_pairs_hook, **kw)\u001b[0m\n\u001b[0;32m    291\u001b[0m     \u001b[0mkwarg\u001b[0m\u001b[1;33m;\u001b[0m \u001b[0motherwise\u001b[0m\u001b[0;31m \u001b[0m\u001b[0;31m`\u001b[0m\u001b[0;31m`\u001b[0m\u001b[0mJSONDecoder\u001b[0m\u001b[0;31m`\u001b[0m\u001b[0;31m`\u001b[0m \u001b[1;32mis\u001b[0m \u001b[0mused\u001b[0m\u001b[1;33m.\u001b[0m\u001b[1;33m\u001b[0m\u001b[1;33m\u001b[0m\u001b[0m\n\u001b[0;32m    292\u001b[0m     \"\"\"\n\u001b[1;32m--> 293\u001b[1;33m     return loads(fp.read(),\n\u001b[0m\u001b[0;32m    294\u001b[0m         \u001b[0mcls\u001b[0m\u001b[1;33m=\u001b[0m\u001b[0mcls\u001b[0m\u001b[1;33m,\u001b[0m \u001b[0mobject_hook\u001b[0m\u001b[1;33m=\u001b[0m\u001b[0mobject_hook\u001b[0m\u001b[1;33m,\u001b[0m\u001b[1;33m\u001b[0m\u001b[1;33m\u001b[0m\u001b[0m\n\u001b[0;32m    295\u001b[0m         \u001b[0mparse_float\u001b[0m\u001b[1;33m=\u001b[0m\u001b[0mparse_float\u001b[0m\u001b[1;33m,\u001b[0m \u001b[0mparse_int\u001b[0m\u001b[1;33m=\u001b[0m\u001b[0mparse_int\u001b[0m\u001b[1;33m,\u001b[0m\u001b[1;33m\u001b[0m\u001b[1;33m\u001b[0m\u001b[0m\n",
      "\u001b[1;31mAttributeError\u001b[0m: 'str' object has no attribute 'read'"
     ]
    }
   ],
   "source": [
    "json.load('credentials.txt')"
   ]
  },
  {
   "cell_type": "code",
   "execution_count": 3,
   "id": "every-ballet",
   "metadata": {},
   "outputs": [
    {
     "data": {
      "text/plain": [
       "['{\"API_key\" = \"uGb3mEOU3dny28UO7YwZaE3pd\",\\n',\n",
       " '\"secret_API_key\" = \"5xbU5oOibC8NQxRGkOqNFLkxGIxPlTOupWXfbDeqDYxuTODztT\",\\n',\n",
       " '\"Access_Token\" = \"841829716692750336-ZY5VUQ8UHxcCQ1mQZ91atAPn7lKMQvq\",\\n',\n",
       " '\"secret_Acess_Token\" = \"LDzEFuH3rv5rlrARqTSMFAQJ4mfYcHnJpWVpvALRHsO9C\",\\n',\n",
       " '\"barrer_token\" = \"AAAAAAAAAAAAAAAAAAAAAOW0NwEAAAAAf3FUMsjAwRrG%2BEeGOSww%2B0BaY5s%3DfMXewgJ0P7Dih4AIVCaPrNO0q9uWypJKx8m6iSDNDjVhgwYH2D\"}']"
      ]
     },
     "execution_count": 3,
     "metadata": {},
     "output_type": "execute_result"
    }
   ],
   "source": [
    "open('credentials.txt').readlines()"
   ]
  },
  {
   "cell_type": "code",
   "execution_count": null,
   "id": "exotic-wyoming",
   "metadata": {},
   "outputs": [],
   "source": [
    " \n",
    "consumer_key = <enter your consumer key>\n",
    "consumer_secret = <enter key>\n",
    "access_key= <enter key>\n",
    "access_secret = <enter key>\n",
    " \n",
    "auth = tweepy.OAuthHandler(consumer_key, consumer_secret)\n",
    "auth.set_access_token(access_key, access_secret)\n",
    " \n",
    "api = tweepy.API(auth,wait_on_rate_limit=True)\n",
    " \n",
    "csvFile = open('file-name', 'a')\n",
    "csvWriter = csv.writer(csvFile)\n",
    " \n",
    "search_words = \"#\"      # enter your words\n",
    "new_search = search_words + \" -filter:retweets\"\n",
    " \n",
    "for tweet in tweepy.Cursor(api.search,q=new_search,count=100,\n",
    "                           lang=\"en\",\n",
    "                           since_id=0).items():\n",
    "    csvWriter.writerow([tweet.created_at, tweet.text.encode('utf-8'),tweet.user.screen_name.encode('utf-8'), tweet.user.location.encode('utf-8')])"
   ]
  }
 ],
 "metadata": {
  "kernelspec": {
   "display_name": "Python 3",
   "language": "python",
   "name": "python3"
  },
  "language_info": {
   "codemirror_mode": {
    "name": "ipython",
    "version": 3
   },
   "file_extension": ".py",
   "mimetype": "text/x-python",
   "name": "python",
   "nbconvert_exporter": "python",
   "pygments_lexer": "ipython3",
   "version": "3.8.5"
  }
 },
 "nbformat": 4,
 "nbformat_minor": 5
}
